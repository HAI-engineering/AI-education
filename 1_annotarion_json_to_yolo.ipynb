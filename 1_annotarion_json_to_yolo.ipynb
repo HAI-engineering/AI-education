{
 "cells": [
  {
   "cell_type": "markdown",
   "id": "d09d6af2-ea5e-481c-a135-832d1154e711",
   "metadata": {},
   "source": [
    "# 1_annotationJson_convert_Yolov8 "
   ]
  },
  {
   "cell_type": "code",
   "execution_count": 1,
   "id": "3e09cef7-fcf2-47c4-ac1e-9af8c5cbcdc4",
   "metadata": {
    "tags": []
   },
   "outputs": [
    {
     "data": {
      "text/plain": [
       "1.0"
      ]
     },
     "execution_count": 1,
     "metadata": {},
     "output_type": "execute_result"
    }
   ],
   "source": [
    "import json\n",
    "import cv2\n",
    "import numpy as np\n",
    "from glob import glob\n",
    "import os, shutil\n",
    "import matplotlib.pyplot as plt\n",
    "%matplotlib inline\n",
    "\n",
    "# input data ---------------------------\n",
    "data_name = 'kamiya_keisuu_test'\n",
    "class_name = ['1', '2', '3', '4', '5']\n",
    "img_height, img_width = 640, 640\n",
    "dev = img_width/img_height             #横長画像限定\n",
    "dev"
   ]
  },
  {
   "cell_type": "code",
   "execution_count": 2,
   "id": "b1768325-4e94-43b5-8b4b-48c800a964a6",
   "metadata": {
    "tags": []
   },
   "outputs": [],
   "source": [
    "# make directory -------------------------\n",
    "os.makedirs('datasets/' + data_name, exist_ok=True)\n",
    "\n",
    "os.makedirs('datasets/' + data_name + '/images', exist_ok=True)\n",
    "os.makedirs('datasets/' + data_name + '/labels', exist_ok=True)\n",
    "\n",
    "shutil.rmtree('datasets/' + data_name + '/images')\n",
    "shutil.rmtree('datasets/' + data_name + '/labels')\n",
    "\n",
    "os.makedirs('datasets/' + data_name + '/images/train')\n",
    "os.makedirs('datasets/' + data_name + '/labels/train')\n",
    "\n"
   ]
  },
  {
   "cell_type": "markdown",
   "id": "f36087e5-3bf8-44b8-a3fb-d7f555861182",
   "metadata": {},
   "source": [
    "### Copy images"
   ]
  },
  {
   "cell_type": "code",
   "execution_count": 3,
   "id": "64f8fdf3-61e3-417c-a010-29dc85b4f888",
   "metadata": {
    "tags": []
   },
   "outputs": [],
   "source": [
    "# image copy -------------------------------\n",
    "img_files = glob('image&videos/' + data_name + '/*.jpg')\n",
    "\n",
    "for i in img_files:\n",
    "    shutil.copy(i,'datasets/' + data_name + '/images/train')\n"
   ]
  },
  {
   "cell_type": "markdown",
   "id": "582fa60c-f670-4b1c-b60d-e9f02768dbd5",
   "metadata": {},
   "source": [
    "### Convert Json to YOLO "
   ]
  },
  {
   "cell_type": "code",
   "execution_count": 4,
   "id": "be4ed1ed-e8b8-4a35-8efd-79b1fd2f88db",
   "metadata": {
    "tags": []
   },
   "outputs": [],
   "source": [
    "json_files_dir = 'image&videos/' + data_name\n",
    "files = glob(json_files_dir + ('/*.json'))\n",
    "\n",
    "\n",
    "for f in files:\n",
    "    \n",
    "    # text file name ----------------\n",
    "    filename = 'datasets/' + data_name + '/labels/train/' + f.split('\\\\')[1].split('.')[0] + '.txt'\n",
    "    \n",
    "    # make data from json --------------\n",
    "    res = open(f, 'r')\n",
    "    res = json.load(res)\n",
    "    num = res['shapes']\n",
    "    \n",
    "    with open(filename, 'w') as t:\n",
    "        \n",
    "        for n in num:\n",
    "            \n",
    "            label = n['label']\n",
    "            label_index = str(class_name.index(label))\n",
    "            \n",
    "            points = np.array(n['points']).astype(int)\n",
    "            \n",
    "            # write text file ------------------------\n",
    "            t.write(label_index + '  ')\n",
    "            \n",
    "            for p in points:\n",
    "\n",
    "                t.write(str(p[0]/img_width) + ' ')\n",
    "                t.write(str((p[1]*dev)/img_height) + ' ')\n",
    "                \n",
    "            t.write('\\n')\n",
    "                \n",
    "        t.close()\n"
   ]
  },
  {
   "cell_type": "code",
   "execution_count": null,
   "id": "de686095-81ab-4b8a-af77-7bfc747e47fb",
   "metadata": {},
   "outputs": [],
   "source": []
  }
 ],
 "metadata": {
  "kernelspec": {
   "display_name": "Python 3 (ipykernel)",
   "language": "python",
   "name": "python3"
  },
  "language_info": {
   "codemirror_mode": {
    "name": "ipython",
    "version": 3
   },
   "file_extension": ".py",
   "mimetype": "text/x-python",
   "name": "python",
   "nbconvert_exporter": "python",
   "pygments_lexer": "ipython3",
   "version": "3.8.10"
  }
 },
 "nbformat": 4,
 "nbformat_minor": 5
}
