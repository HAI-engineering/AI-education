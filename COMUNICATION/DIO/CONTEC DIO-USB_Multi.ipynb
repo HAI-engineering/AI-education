{
 "cells": [
  {
   "cell_type": "markdown",
   "metadata": {},
   "source": [
    "# 1つのPCで2台のCONTEC DIOを利用"
   ]
  },
  {
   "cell_type": "markdown",
   "metadata": {},
   "source": [
    "2023.12.9 HAI技術士事務所"
   ]
  },
  {
   "cell_type": "markdown",
   "metadata": {},
   "source": [
    "2台以上のDIOを使う場合はdio_idに番号を振ることで、別々に制御が可能です。"
   ]
  },
  {
   "cell_type": "markdown",
   "metadata": {},
   "source": [
    "### ３－１．入力プログラム\n",
    "入力ビットの状態（ONで1、OFFで0）をpythonから読み取ります。"
   ]
  },
  {
   "cell_type": "code",
   "execution_count": null,
   "metadata": {
    "tags": []
   },
   "outputs": [],
   "source": [
    "# 出力プログラム\n",
    "import ctypes\n",
    "import cdio\n",
    "\n",
    "# デバイス名\n",
    "dev_name0 = 'DIO001' \n",
    "dev_name1 = 'DIO002' \n",
    "\n",
    "# デバイスIDをそれぞれに振る。\n",
    "dio_id0 = ctypes.c_short(0)\n",
    "dio_id1 = ctypes.c_short(1)\n",
    "\n",
    "# デバイスの初期化\n",
    "ret0 = cdio.DioInit(dev_name0.encode(),ctypes.byref(dio_id0))\n",
    "ret1 = cdio.DioInit(dev_name1.encode(),ctypes.byref(dio_id1))\n",
    "\n",
    "print(ret0, ': 0なら初期化完了')\n",
    "print(ret1, ': 0なら初期化完了')\n"
   ]
  },
  {
   "cell_type": "code",
   "execution_count": null,
   "metadata": {},
   "outputs": [],
   "source": [
    "off0 = cdio.DioOutBit(dio_id0,ctypes.c_short(4),ctypes.c_ubyte(0x00))\n",
    "on0 = cdio.DioOutBit(dio_id0,ctypes.c_short(4),ctypes.c_ubyte(0x01))\n",
    "off1 = cdio.DioOutBit(dio_id1,ctypes.c_short(4),ctypes.c_ubyte(0x00))\n",
    "on1 = cdio.DioOutBit(dio_id1,ctypes.c_short(4),ctypes.c_ubyte(0x01))"
   ]
  },
  {
   "cell_type": "code",
   "execution_count": null,
   "metadata": {},
   "outputs": [],
   "source": [
    "import time\n",
    "\n",
    "while True:\n",
    "    off0 = cdio.DioOutBit(dio_id0,ctypes.c_short(4),ctypes.c_ubyte(0x00))\n",
    "    time.sleep(0.2)\n",
    "    on0 = cdio.DioOutBit(dio_id0,ctypes.c_short(4),ctypes.c_ubyte(0x01))\n",
    "    time.sleep(0.2)\n",
    "    off1 = cdio.DioOutBit(dio_id1,ctypes.c_short(4),ctypes.c_ubyte(0x00))\n",
    "    time.sleep(0.2)\n",
    "    on1 = cdio.DioOutBit(dio_id1,ctypes.c_short(4),ctypes.c_ubyte(0x01))"
   ]
  },
  {
   "cell_type": "code",
   "execution_count": null,
   "metadata": {},
   "outputs": [],
   "source": []
  }
 ],
 "metadata": {
  "kernelspec": {
   "display_name": "Python 3 (ipykernel)",
   "language": "python",
   "name": "python3"
  },
  "language_info": {
   "codemirror_mode": {
    "name": "ipython",
    "version": 3
   },
   "file_extension": ".py",
   "mimetype": "text/x-python",
   "name": "python",
   "nbconvert_exporter": "python",
   "pygments_lexer": "ipython3",
   "version": "3.8.10"
  }
 },
 "nbformat": 4,
 "nbformat_minor": 4
}
